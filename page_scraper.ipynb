{
 "cells": [
  {
   "cell_type": "markdown",
   "id": "2dd4e715",
   "metadata": {},
   "source": [
    "## Setup"
   ]
  },
  {
   "cell_type": "code",
   "execution_count": 46,
   "id": "2ca8a726",
   "metadata": {
    "code_folding": [
     0
    ]
   },
   "outputs": [
    {
     "name": "stderr",
     "output_type": "stream",
     "text": [
      "C:\\Users\\Daniel\\AppData\\Local\\Temp\\ipykernel_5620\\853353486.py:10: DeprecationWarning: Importing clear_output from IPython.core.display is deprecated since IPython 7.14, please import from IPython display\n",
      "  from IPython.core.display import clear_output\n"
     ]
    }
   ],
   "source": [
    "#build out the loop\n",
    "import random\n",
    "from requests import get\n",
    "from bs4 import BeautifulSoup\n",
    "from time import sleep\n",
    "import re\n",
    "from random import randint #avoid throttling by not sending too many requests one after the other\n",
    "from warnings import warn\n",
    "from time import time\n",
    "from IPython.core.display import clear_output\n",
    "import numpy as np\n",
    "from bs4 import BeautifulSoup\n",
    "from requests import get\n",
    "from selenium import webdriver\n",
    "from selenium.webdriver.firefox.firefox_binary import FirefoxBinary\n",
    "from selenium.webdriver.firefox.options import Options\n",
    "\n",
    "from selenium.webdriver.common.by import By\n",
    "from selenium.webdriver.support.ui import WebDriverWait\n",
    "from selenium.webdriver.support import expected_conditions as EC\n",
    "from functools import reduce"
   ]
  },
  {
   "cell_type": "code",
   "execution_count": 2,
   "id": "ac947e6e",
   "metadata": {},
   "outputs": [],
   "source": [
    "options = Options()\n",
    "options.binary_location = r\"C:\\Program Files\\Mozilla Firefox\\firefox.exe\"\n",
    "options.add_argument('--headless')"
   ]
  },
  {
   "cell_type": "code",
   "execution_count": 3,
   "id": "31d69b7f",
   "metadata": {},
   "outputs": [],
   "source": [
    "exe_path = r\"C:\\bin\\geckodriver-v0.32.0-win64\\geckodriver.exe\"\n",
    "\n",
    "user_agents = [ \n",
    "    'Mozilla/5.0 (Windows NT 10.0; Win64; x64) AppleWebKit/537.36 (KHTML, like Gecko) Chrome/91.0.4472.124 Safari/537.36', \n",
    "    'Mozilla/5.0 (X11; Linux x86_64) AppleWebKit/537.36 (KHTML, like Gecko) Chrome/92.0.4515.107 Safari/537.36', \n",
    "    'Mozilla/5.0 (Windows NT 10.0; Win64; x64) AppleWebKit/537.36 (KHTML, like Gecko) Chrome/90.0.4430.212 Safari/537.36', \n",
    "    'Mozilla/5.0 (iPhone; CPU iPhone OS 12_2 like Mac OS X) AppleWebKit/605.1.15 (KHTML, like Gecko) Mobile/15E148', \n",
    "    'Mozilla/5.0 (Linux; Android 11; SM-G960U) AppleWebKit/537.36 (KHTML, like Gecko) Chrome/89.0.4389.72 Mobile Safari/537.36' \n",
    "] \n",
    "#proxies = [{'https': 'https://45.8.179.242'}, {'https': 'https://134.209.110.45'},  {'https': 'https:/110.34.3.229'}, {'https': 'https://47.243.121.74'}] \n",
    "#proxies = ['108.170.12.14', '44.204.222.225', '143.198.228.250'] # 108.170.12.14\n",
    "proxies = {'http': 'http://103.242.119.88'}"
   ]
  },
  {
   "cell_type": "code",
   "execution_count": 4,
   "id": "59b773e4",
   "metadata": {},
   "outputs": [],
   "source": [
    "user_agent = random.choice(user_agents)\n",
    "#proxy = random.choice(proxies)\n",
    "headers = {'User-Agent': user_agent}\n",
    "user_agent = random.choice(user_agents)\n",
    "\n",
    "options.add_argument(f\"--proxy-server=http://'103.242.119.88':80\")\n",
    "\n"
   ]
  },
  {
   "cell_type": "markdown",
   "id": "f9591c6a",
   "metadata": {},
   "source": [
    "## Scrape without Keyword Search (All apartments)"
   ]
  },
  {
   "cell_type": "code",
   "execution_count": 5,
   "id": "41109fd8",
   "metadata": {},
   "outputs": [],
   "source": [
    "num_pages = (8786/120)\n",
    "num_pages = round(num_pages)\n",
    "pages = np.arange(0, num_pages, 1)"
   ]
  },
  {
   "cell_type": "code",
   "execution_count": 6,
   "id": "8d3dfb32",
   "metadata": {
    "scrolled": true
   },
   "outputs": [
    {
     "name": "stdout",
     "output_type": "stream",
     "text": [
      "page is: 0\n",
      "Page 1 scraped successfully!\n",
      "page is: 1\n",
      "Page 2 scraped successfully!\n",
      "page is: 2\n",
      "Page 3 scraped successfully!\n",
      "page is: 3\n",
      "Page 4 scraped successfully!\n",
      "page is: 4\n",
      "Page 5 scraped successfully!\n",
      "page is: 5\n",
      "Page 6 scraped successfully!\n",
      "page is: 6\n",
      "Page 7 scraped successfully!\n",
      "page is: 7\n",
      "Page 8 scraped successfully!\n",
      "page is: 8\n",
      "Page 9 scraped successfully!\n",
      "page is: 9\n",
      "Page 10 scraped successfully!\n",
      "page is: 10\n",
      "Page 11 scraped successfully!\n",
      "page is: 11\n",
      "Page 12 scraped successfully!\n",
      "page is: 12\n",
      "Page 13 scraped successfully!\n",
      "page is: 13\n",
      "Page 14 scraped successfully!\n",
      "page is: 14\n",
      "Page 15 scraped successfully!\n",
      "page is: 15\n",
      "Page 16 scraped successfully!\n",
      "page is: 16\n",
      "Page 17 scraped successfully!\n",
      "page is: 17\n",
      "Page 18 scraped successfully!\n",
      "page is: 18\n",
      "Page 19 scraped successfully!\n",
      "page is: 19\n",
      "Page 20 scraped successfully!\n",
      "page is: 20\n",
      "Page 21 scraped successfully!\n",
      "page is: 21\n",
      "Page 22 scraped successfully!\n",
      "page is: 22\n",
      "Page 23 scraped successfully!\n",
      "page is: 23\n",
      "Page 24 scraped successfully!\n",
      "page is: 24\n",
      "Page 25 scraped successfully!\n",
      "page is: 25\n",
      "Page 26 scraped successfully!\n",
      "page is: 26\n",
      "Page 27 scraped successfully!\n",
      "page is: 27\n",
      "Page 28 scraped successfully!\n",
      "page is: 28\n",
      "Page 29 scraped successfully!\n",
      "page is: 29\n",
      "Page 30 scraped successfully!\n",
      "page is: 30\n",
      "Page 31 scraped successfully!\n",
      "page is: 31\n",
      "Page 32 scraped successfully!\n",
      "page is: 32\n",
      "Page 33 scraped successfully!\n",
      "page is: 33\n",
      "Page 34 scraped successfully!\n",
      "page is: 34\n",
      "Page 35 scraped successfully!\n",
      "page is: 35\n",
      "Page 36 scraped successfully!\n",
      "page is: 36\n",
      "Page 37 scraped successfully!\n",
      "page is: 37\n",
      "Page 38 scraped successfully!\n",
      "page is: 38\n",
      "Page 39 scraped successfully!\n",
      "page is: 39\n",
      "Page 40 scraped successfully!\n",
      "page is: 40\n",
      "Page 41 scraped successfully!\n",
      "page is: 41\n",
      "Page 42 scraped successfully!\n",
      "page is: 42\n",
      "Page 43 scraped successfully!\n",
      "page is: 43\n",
      "Page 44 scraped successfully!\n",
      "page is: 44\n",
      "Page 45 scraped successfully!\n",
      "page is: 45\n",
      "Page 46 scraped successfully!\n",
      "page is: 46\n",
      "Page 47 scraped successfully!\n",
      "page is: 47\n",
      "Page 48 scraped successfully!\n",
      "page is: 48\n",
      "Page 49 scraped successfully!\n",
      "page is: 49\n",
      "Page 50 scraped successfully!\n",
      "page is: 50\n",
      "Page 51 scraped successfully!\n",
      "page is: 51\n",
      "Page 52 scraped successfully!\n",
      "page is: 52\n",
      "Page 53 scraped successfully!\n",
      "page is: 53\n",
      "Page 54 scraped successfully!\n",
      "page is: 54\n",
      "Page 55 scraped successfully!\n",
      "page is: 55\n",
      "Page 56 scraped successfully!\n",
      "page is: 56\n",
      "Page 57 scraped successfully!\n",
      "page is: 57\n",
      "Page 58 scraped successfully!\n",
      "page is: 58\n",
      "Page 59 scraped successfully!\n",
      "page is: 59\n",
      "Page 60 scraped successfully!\n",
      "page is: 60\n",
      "Page 61 scraped successfully!\n",
      "page is: 61\n",
      "Page 62 scraped successfully!\n",
      "page is: 62\n",
      "Page 63 scraped successfully!\n",
      "page is: 63\n",
      "Page 64 scraped successfully!\n",
      "page is: 64\n",
      "Page 65 scraped successfully!\n",
      "page is: 65\n",
      "Page 66 scraped successfully!\n",
      "page is: 66\n",
      "Page 67 scraped successfully!\n",
      "page is: 67\n",
      "Page 68 scraped successfully!\n",
      "page is: 68\n",
      "Page 69 scraped successfully!\n",
      "page is: 69\n",
      "Page 70 scraped successfully!\n",
      "page is: 70\n",
      "Page 71 scraped successfully!\n",
      "page is: 71\n",
      "Page 72 scraped successfully!\n",
      "page is: 72\n",
      "Page 73 scraped successfully!\n",
      "\n",
      "\n",
      "Scrape complete!\n"
     ]
    }
   ],
   "source": [
    "iterations = 0\n",
    "\n",
    "post_timing = []\n",
    "post_hoods = []\n",
    "post_title_texts = []\n",
    "bedroom_counts = []\n",
    "sqfts = []\n",
    "post_links = []\n",
    "post_prices = []\n",
    "\n",
    "\n",
    "for page in pages:\n",
    "    print(\"page is:\", page)\n",
    "    driver = webdriver.Firefox(options=options)\n",
    "    driver.get(f'https://vancouver.craigslist.org/search/apa#search=1~gallery~{page}~0')\n",
    "\n",
    "   \n",
    "\n",
    "    sleep(randint(3,9))\n",
    "\n",
    "    html = driver.page_source\n",
    "    driver.quit()\n",
    "    html_soup = BeautifulSoup(html, 'html.parser') \n",
    "\n",
    "    #define the posts\n",
    "    posts = html_soup.find_all('li', class_= 'cl-search-result cl-search-view-mode-gallery')\n",
    "\n",
    "    #extract data item-wise\n",
    "    for post in posts:\n",
    "\n",
    "        for a in post.find_all('a', href=True):\n",
    "            url = a['href']\n",
    "        post_links.append(url)\n",
    "        \n",
    "    iterations += 1\n",
    "\n",
    "    print(\"Page \" + str(iterations) + \" scraped successfully!\")\n",
    "\n",
    "print(\"\\n\")\n",
    "\n",
    "print(\"Scrape complete!\")"
   ]
  },
  {
   "cell_type": "code",
   "execution_count": 7,
   "id": "19dcebb3",
   "metadata": {},
   "outputs": [
    {
     "name": "stdout",
     "output_type": "stream",
     "text": [
      "<class 'pandas.core.frame.DataFrame'>\n",
      "RangeIndex: 8760 entries, 0 to 8759\n",
      "Data columns (total 1 columns):\n",
      " #   Column  Non-Null Count  Dtype \n",
      "---  ------  --------------  ----- \n",
      " 0   URL     8760 non-null   object\n",
      "dtypes: object(1)\n",
      "memory usage: 68.6+ KB\n",
      "None\n"
     ]
    },
    {
     "data": {
      "text/html": [
       "<div>\n",
       "<style scoped>\n",
       "    .dataframe tbody tr th:only-of-type {\n",
       "        vertical-align: middle;\n",
       "    }\n",
       "\n",
       "    .dataframe tbody tr th {\n",
       "        vertical-align: top;\n",
       "    }\n",
       "\n",
       "    .dataframe thead th {\n",
       "        text-align: right;\n",
       "    }\n",
       "</style>\n",
       "<table border=\"1\" class=\"dataframe\">\n",
       "  <thead>\n",
       "    <tr style=\"text-align: right;\">\n",
       "      <th></th>\n",
       "      <th>URL</th>\n",
       "    </tr>\n",
       "  </thead>\n",
       "  <tbody>\n",
       "    <tr>\n",
       "      <th>0</th>\n",
       "      <td>https://vancouver.craigslist.org/pml/apa/d/map...</td>\n",
       "    </tr>\n",
       "    <tr>\n",
       "      <th>1</th>\n",
       "      <td>https://vancouver.craigslist.org/van/apa/d/van...</td>\n",
       "    </tr>\n",
       "    <tr>\n",
       "      <th>2</th>\n",
       "      <td>https://vancouver.craigslist.org/nvn/apa/d/nor...</td>\n",
       "    </tr>\n",
       "    <tr>\n",
       "      <th>3</th>\n",
       "      <td>https://vancouver.craigslist.org/rds/apa/d/sur...</td>\n",
       "    </tr>\n",
       "    <tr>\n",
       "      <th>4</th>\n",
       "      <td>https://vancouver.craigslist.org/nvn/apa/d/nor...</td>\n",
       "    </tr>\n",
       "    <tr>\n",
       "      <th>5</th>\n",
       "      <td>https://vancouver.craigslist.org/bnc/apa/d/bur...</td>\n",
       "    </tr>\n",
       "    <tr>\n",
       "      <th>6</th>\n",
       "      <td>https://vancouver.craigslist.org/bnc/apa/d/bur...</td>\n",
       "    </tr>\n",
       "    <tr>\n",
       "      <th>7</th>\n",
       "      <td>https://vancouver.craigslist.org/van/apa/d/van...</td>\n",
       "    </tr>\n",
       "    <tr>\n",
       "      <th>8</th>\n",
       "      <td>https://vancouver.craigslist.org/bnc/apa/d/bur...</td>\n",
       "    </tr>\n",
       "    <tr>\n",
       "      <th>9</th>\n",
       "      <td>https://vancouver.craigslist.org/bnc/apa/d/bur...</td>\n",
       "    </tr>\n",
       "  </tbody>\n",
       "</table>\n",
       "</div>"
      ],
      "text/plain": [
       "                                                 URL\n",
       "0  https://vancouver.craigslist.org/pml/apa/d/map...\n",
       "1  https://vancouver.craigslist.org/van/apa/d/van...\n",
       "2  https://vancouver.craigslist.org/nvn/apa/d/nor...\n",
       "3  https://vancouver.craigslist.org/rds/apa/d/sur...\n",
       "4  https://vancouver.craigslist.org/nvn/apa/d/nor...\n",
       "5  https://vancouver.craigslist.org/bnc/apa/d/bur...\n",
       "6  https://vancouver.craigslist.org/bnc/apa/d/bur...\n",
       "7  https://vancouver.craigslist.org/van/apa/d/van...\n",
       "8  https://vancouver.craigslist.org/bnc/apa/d/bur...\n",
       "9  https://vancouver.craigslist.org/bnc/apa/d/bur..."
      ]
     },
     "execution_count": 7,
     "metadata": {},
     "output_type": "execute_result"
    }
   ],
   "source": [
    "van_no_sauna = pd.DataFrame({'URL': post_links})\n",
    "print(vans_no_sauna.info())\n",
    "van_no_sauna.head(10)"
   ]
  },
  {
   "cell_type": "code",
   "execution_count": 8,
   "id": "c5bd80e6",
   "metadata": {
    "scrolled": true
   },
   "outputs": [
    {
     "data": {
      "text/plain": [
       "8629"
      ]
     },
     "execution_count": 8,
     "metadata": {},
     "output_type": "execute_result"
    }
   ],
   "source": [
    "len(set(van_apts_no_sauna['URL']))"
   ]
  },
  {
   "cell_type": "code",
   "execution_count": 9,
   "id": "1aa391b6",
   "metadata": {},
   "outputs": [],
   "source": [
    "van_no_sauna.to_csv('van_no_sauna.csv', index = False)"
   ]
  },
  {
   "cell_type": "markdown",
   "id": "f1d94de5",
   "metadata": {},
   "source": [
    "## Scrape with Sauna Keyword Search"
   ]
  },
  {
   "cell_type": "code",
   "execution_count": 15,
   "id": "967b3eda",
   "metadata": {},
   "outputs": [],
   "source": [
    "# get number results manually and divide by 120(results per page)\n",
    "num_pages = (748/120)\n",
    "num_pages = round(num_pages)\n",
    "pages = np.arange(0, num_pages, 1)"
   ]
  },
  {
   "cell_type": "code",
   "execution_count": 11,
   "id": "0e30c6a0",
   "metadata": {},
   "outputs": [
    {
     "name": "stdout",
     "output_type": "stream",
     "text": [
      "page is: 0\n",
      "Page 1 scraped successfully!\n",
      "page is: 1\n",
      "Page 2 scraped successfully!\n",
      "page is: 2\n",
      "Page 3 scraped successfully!\n",
      "page is: 3\n",
      "Page 4 scraped successfully!\n",
      "page is: 4\n",
      "Page 5 scraped successfully!\n",
      "page is: 5\n",
      "Page 6 scraped successfully!\n",
      "\n",
      "\n",
      "Scrape complete!\n"
     ]
    }
   ],
   "source": [
    "iterations = 0\n",
    "\n",
    "post_timing = []\n",
    "post_hoods = []\n",
    "post_title_texts = []\n",
    "bedroom_counts = []\n",
    "sqfts = []\n",
    "post_links = []\n",
    "post_prices = []\n",
    "\n",
    "\n",
    "for page in pages:\n",
    "    print(\"page is:\", page)\n",
    "    driver = webdriver.Firefox(options=options)\n",
    "    driver.get(f'https://vancouver.craigslist.org/search/apa?query=sauna#search=1~gallery~{page}~0')\n",
    "\n",
    "   \n",
    "\n",
    "    sleep(randint(3,9))\n",
    "\n",
    "    html = driver.page_source\n",
    "    driver.quit()\n",
    "    html_soup = BeautifulSoup(html, 'html.parser') \n",
    "\n",
    "    #define the posts\n",
    "    posts = html_soup.find_all('li', class_= 'cl-search-result cl-search-view-mode-gallery')\n",
    "\n",
    "    #extract data item-wise\n",
    "    for post in posts:\n",
    "\n",
    "        for a in post.find_all('a', href=True):\n",
    "            url = a['href']\n",
    "        post_links.append(url)\n",
    "        \n",
    "    iterations += 1\n",
    "\n",
    "    print(\"Page \" + str(iterations) + \" scraped successfully!\")\n",
    "\n",
    "print(\"\\n\")\n",
    "\n",
    "print(\"Scrape complete!\")"
   ]
  },
  {
   "cell_type": "code",
   "execution_count": 12,
   "id": "49459d9d",
   "metadata": {},
   "outputs": [
    {
     "name": "stdout",
     "output_type": "stream",
     "text": [
      "<class 'pandas.core.frame.DataFrame'>\n",
      "RangeIndex: 720 entries, 0 to 719\n",
      "Data columns (total 1 columns):\n",
      " #   Column  Non-Null Count  Dtype \n",
      "---  ------  --------------  ----- \n",
      " 0   URL     720 non-null    object\n",
      "dtypes: object(1)\n",
      "memory usage: 5.8+ KB\n",
      "None\n"
     ]
    },
    {
     "data": {
      "text/html": [
       "<div>\n",
       "<style scoped>\n",
       "    .dataframe tbody tr th:only-of-type {\n",
       "        vertical-align: middle;\n",
       "    }\n",
       "\n",
       "    .dataframe tbody tr th {\n",
       "        vertical-align: top;\n",
       "    }\n",
       "\n",
       "    .dataframe thead th {\n",
       "        text-align: right;\n",
       "    }\n",
       "</style>\n",
       "<table border=\"1\" class=\"dataframe\">\n",
       "  <thead>\n",
       "    <tr style=\"text-align: right;\">\n",
       "      <th></th>\n",
       "      <th>URL</th>\n",
       "    </tr>\n",
       "  </thead>\n",
       "  <tbody>\n",
       "    <tr>\n",
       "      <th>0</th>\n",
       "      <td>https://vancouver.craigslist.org/van/apa/d/van...</td>\n",
       "    </tr>\n",
       "    <tr>\n",
       "      <th>1</th>\n",
       "      <td>https://vancouver.craigslist.org/pml/apa/d/por...</td>\n",
       "    </tr>\n",
       "    <tr>\n",
       "      <th>2</th>\n",
       "      <td>https://vancouver.craigslist.org/van/apa/d/van...</td>\n",
       "    </tr>\n",
       "    <tr>\n",
       "      <th>3</th>\n",
       "      <td>https://vancouver.craigslist.org/bnc/apa/d/bur...</td>\n",
       "    </tr>\n",
       "    <tr>\n",
       "      <th>4</th>\n",
       "      <td>https://vancouver.craigslist.org/van/apa/d/van...</td>\n",
       "    </tr>\n",
       "    <tr>\n",
       "      <th>5</th>\n",
       "      <td>https://vancouver.craigslist.org/bnc/apa/d/bur...</td>\n",
       "    </tr>\n",
       "    <tr>\n",
       "      <th>6</th>\n",
       "      <td>https://vancouver.craigslist.org/van/apa/d/van...</td>\n",
       "    </tr>\n",
       "    <tr>\n",
       "      <th>7</th>\n",
       "      <td>https://vancouver.craigslist.org/van/apa/d/van...</td>\n",
       "    </tr>\n",
       "    <tr>\n",
       "      <th>8</th>\n",
       "      <td>https://vancouver.craigslist.org/van/apa/d/van...</td>\n",
       "    </tr>\n",
       "    <tr>\n",
       "      <th>9</th>\n",
       "      <td>https://vancouver.craigslist.org/bnc/apa/d/coq...</td>\n",
       "    </tr>\n",
       "  </tbody>\n",
       "</table>\n",
       "</div>"
      ],
      "text/plain": [
       "                                                 URL\n",
       "0  https://vancouver.craigslist.org/van/apa/d/van...\n",
       "1  https://vancouver.craigslist.org/pml/apa/d/por...\n",
       "2  https://vancouver.craigslist.org/van/apa/d/van...\n",
       "3  https://vancouver.craigslist.org/bnc/apa/d/bur...\n",
       "4  https://vancouver.craigslist.org/van/apa/d/van...\n",
       "5  https://vancouver.craigslist.org/bnc/apa/d/bur...\n",
       "6  https://vancouver.craigslist.org/van/apa/d/van...\n",
       "7  https://vancouver.craigslist.org/van/apa/d/van...\n",
       "8  https://vancouver.craigslist.org/van/apa/d/van...\n",
       "9  https://vancouver.craigslist.org/bnc/apa/d/coq..."
      ]
     },
     "execution_count": 12,
     "metadata": {},
     "output_type": "execute_result"
    }
   ],
   "source": [
    "van_sauna = pd.DataFrame({'URL': post_links})\n",
    "print(van_sauna.info())\n",
    "van_sauna.head(10)"
   ]
  },
  {
   "cell_type": "code",
   "execution_count": 13,
   "id": "33d7f0e3",
   "metadata": {
    "scrolled": true
   },
   "outputs": [
    {
     "data": {
      "text/plain": [
       "600"
      ]
     },
     "execution_count": 13,
     "metadata": {},
     "output_type": "execute_result"
    }
   ],
   "source": [
    "len(set(van_sauna['URL']))"
   ]
  },
  {
   "cell_type": "code",
   "execution_count": 14,
   "id": "f64aede5",
   "metadata": {},
   "outputs": [],
   "source": [
    "van_sauna.to_csv('van_sauna.csv', index = False)"
   ]
  },
  {
   "cell_type": "markdown",
   "id": "94e69075",
   "metadata": {},
   "source": [
    "## Scrape with Pool Keyword Search"
   ]
  },
  {
   "cell_type": "code",
   "execution_count": 16,
   "id": "0a6e4966",
   "metadata": {},
   "outputs": [],
   "source": [
    "num_pages = (1353/120)\n",
    "num_pages = round(num_pages)\n",
    "pages = np.arange(0, num_pages, 1)"
   ]
  },
  {
   "cell_type": "code",
   "execution_count": 17,
   "id": "9e8ac6a6",
   "metadata": {},
   "outputs": [
    {
     "name": "stdout",
     "output_type": "stream",
     "text": [
      "page is: 0\n",
      "Page 1 scraped successfully!\n",
      "page is: 1\n",
      "Page 2 scraped successfully!\n",
      "page is: 2\n",
      "Page 3 scraped successfully!\n",
      "page is: 3\n",
      "Page 4 scraped successfully!\n",
      "page is: 4\n",
      "Page 5 scraped successfully!\n",
      "page is: 5\n",
      "Page 6 scraped successfully!\n",
      "page is: 6\n",
      "Page 7 scraped successfully!\n",
      "page is: 7\n",
      "Page 8 scraped successfully!\n",
      "page is: 8\n",
      "Page 9 scraped successfully!\n",
      "page is: 9\n",
      "Page 10 scraped successfully!\n",
      "page is: 10\n",
      "Page 11 scraped successfully!\n",
      "\n",
      "\n",
      "Scrape complete!\n"
     ]
    }
   ],
   "source": [
    "iterations = 0\n",
    "\n",
    "post_timing = []\n",
    "post_hoods = []\n",
    "post_title_texts = []\n",
    "bedroom_counts = []\n",
    "sqfts = []\n",
    "post_links = []\n",
    "post_prices = []\n",
    "\n",
    "\n",
    "for page in pages:\n",
    "    print(\"page is:\", page)\n",
    "    driver = webdriver.Firefox(options=options)\n",
    "    driver.get(f'https://vancouver.craigslist.org/search/apa?query=pool#search=1~gallery~{page}~0')\n",
    "\n",
    "   \n",
    "\n",
    "    sleep(randint(3,9))\n",
    "\n",
    "    html = driver.page_source\n",
    "    driver.quit()\n",
    "    html_soup = BeautifulSoup(html, 'html.parser') \n",
    "\n",
    "    #define the posts\n",
    "    posts = html_soup.find_all('li', class_= 'cl-search-result cl-search-view-mode-gallery')\n",
    "\n",
    "    #extract data item-wise\n",
    "    for post in posts:\n",
    "\n",
    "        for a in post.find_all('a', href=True):\n",
    "            url = a['href']\n",
    "        post_links.append(url)\n",
    "        \n",
    "    iterations += 1\n",
    "\n",
    "    print(\"Page \" + str(iterations) + \" scraped successfully!\")\n",
    "\n",
    "print(\"\\n\")\n",
    "\n",
    "print(\"Scrape complete!\")"
   ]
  },
  {
   "cell_type": "code",
   "execution_count": 18,
   "id": "73375a5f",
   "metadata": {},
   "outputs": [
    {
     "name": "stdout",
     "output_type": "stream",
     "text": [
      "<class 'pandas.core.frame.DataFrame'>\n",
      "RangeIndex: 1320 entries, 0 to 1319\n",
      "Data columns (total 1 columns):\n",
      " #   Column  Non-Null Count  Dtype \n",
      "---  ------  --------------  ----- \n",
      " 0   URL     1320 non-null   object\n",
      "dtypes: object(1)\n",
      "memory usage: 10.4+ KB\n",
      "None\n"
     ]
    },
    {
     "data": {
      "text/html": [
       "<div>\n",
       "<style scoped>\n",
       "    .dataframe tbody tr th:only-of-type {\n",
       "        vertical-align: middle;\n",
       "    }\n",
       "\n",
       "    .dataframe tbody tr th {\n",
       "        vertical-align: top;\n",
       "    }\n",
       "\n",
       "    .dataframe thead th {\n",
       "        text-align: right;\n",
       "    }\n",
       "</style>\n",
       "<table border=\"1\" class=\"dataframe\">\n",
       "  <thead>\n",
       "    <tr style=\"text-align: right;\">\n",
       "      <th></th>\n",
       "      <th>URL</th>\n",
       "    </tr>\n",
       "  </thead>\n",
       "  <tbody>\n",
       "    <tr>\n",
       "      <th>0</th>\n",
       "      <td>https://vancouver.craigslist.org/rds/apa/d/sur...</td>\n",
       "    </tr>\n",
       "    <tr>\n",
       "      <th>1</th>\n",
       "      <td>https://vancouver.craigslist.org/nvn/apa/d/wes...</td>\n",
       "    </tr>\n",
       "    <tr>\n",
       "      <th>2</th>\n",
       "      <td>https://vancouver.craigslist.org/bnc/apa/d/bur...</td>\n",
       "    </tr>\n",
       "    <tr>\n",
       "      <th>3</th>\n",
       "      <td>https://vancouver.craigslist.org/nvn/apa/d/nor...</td>\n",
       "    </tr>\n",
       "    <tr>\n",
       "      <th>4</th>\n",
       "      <td>https://vancouver.craigslist.org/nvn/apa/d/van...</td>\n",
       "    </tr>\n",
       "    <tr>\n",
       "      <th>5</th>\n",
       "      <td>https://vancouver.craigslist.org/rds/apa/d/del...</td>\n",
       "    </tr>\n",
       "    <tr>\n",
       "      <th>6</th>\n",
       "      <td>https://vancouver.craigslist.org/van/apa/d/van...</td>\n",
       "    </tr>\n",
       "    <tr>\n",
       "      <th>7</th>\n",
       "      <td>https://vancouver.craigslist.org/pml/apa/d/coq...</td>\n",
       "    </tr>\n",
       "    <tr>\n",
       "      <th>8</th>\n",
       "      <td>https://vancouver.craigslist.org/van/apa/d/van...</td>\n",
       "    </tr>\n",
       "    <tr>\n",
       "      <th>9</th>\n",
       "      <td>https://vancouver.craigslist.org/nvn/apa/d/wes...</td>\n",
       "    </tr>\n",
       "  </tbody>\n",
       "</table>\n",
       "</div>"
      ],
      "text/plain": [
       "                                                 URL\n",
       "0  https://vancouver.craigslist.org/rds/apa/d/sur...\n",
       "1  https://vancouver.craigslist.org/nvn/apa/d/wes...\n",
       "2  https://vancouver.craigslist.org/bnc/apa/d/bur...\n",
       "3  https://vancouver.craigslist.org/nvn/apa/d/nor...\n",
       "4  https://vancouver.craigslist.org/nvn/apa/d/van...\n",
       "5  https://vancouver.craigslist.org/rds/apa/d/del...\n",
       "6  https://vancouver.craigslist.org/van/apa/d/van...\n",
       "7  https://vancouver.craigslist.org/pml/apa/d/coq...\n",
       "8  https://vancouver.craigslist.org/van/apa/d/van...\n",
       "9  https://vancouver.craigslist.org/nvn/apa/d/wes..."
      ]
     },
     "execution_count": 18,
     "metadata": {},
     "output_type": "execute_result"
    }
   ],
   "source": [
    "van_pool = pd.DataFrame({'URL': post_links})\n",
    "print(van_pool.info())\n",
    "van_pool.head(10)"
   ]
  },
  {
   "cell_type": "code",
   "execution_count": 19,
   "id": "34ea16e6",
   "metadata": {
    "scrolled": true
   },
   "outputs": [
    {
     "data": {
      "text/plain": [
       "1200"
      ]
     },
     "execution_count": 19,
     "metadata": {},
     "output_type": "execute_result"
    }
   ],
   "source": [
    "len(set(van_pool['URL']))"
   ]
  },
  {
   "cell_type": "code",
   "execution_count": 20,
   "id": "1a2de27f",
   "metadata": {},
   "outputs": [],
   "source": [
    "van_pool.to_csv('van_pool.csv', index = False)"
   ]
  },
  {
   "cell_type": "markdown",
   "id": "ff2bf694",
   "metadata": {},
   "source": [
    "## Scrape with Steam Room Keyword Search"
   ]
  },
  {
   "cell_type": "code",
   "execution_count": 21,
   "id": "378a97db",
   "metadata": {},
   "outputs": [],
   "source": [
    "num_pages = (423/120)\n",
    "num_pages = round(num_pages)\n",
    "pages = np.arange(0, num_pages, 1)"
   ]
  },
  {
   "cell_type": "code",
   "execution_count": 22,
   "id": "bab8cb4c",
   "metadata": {},
   "outputs": [
    {
     "name": "stdout",
     "output_type": "stream",
     "text": [
      "page is: 0\n",
      "Page 1 scraped successfully!\n",
      "page is: 1\n",
      "Page 2 scraped successfully!\n",
      "page is: 2\n",
      "Page 3 scraped successfully!\n",
      "page is: 3\n",
      "Page 4 scraped successfully!\n",
      "\n",
      "\n",
      "Scrape complete!\n"
     ]
    }
   ],
   "source": [
    "iterations = 0\n",
    "\n",
    "post_timing = []\n",
    "post_hoods = []\n",
    "post_title_texts = []\n",
    "bedroom_counts = []\n",
    "sqfts = []\n",
    "post_links = []\n",
    "post_prices = []\n",
    "\n",
    "\n",
    "for page in pages:\n",
    "    print(\"page is:\", page)\n",
    "    driver = webdriver.Firefox(options=options)\n",
    "    driver.get(f'https://vancouver.craigslist.org/search/apa?query=steam%20room#search=1~gallery~{page}~0')\n",
    "\n",
    "   \n",
    "\n",
    "    sleep(randint(3,9))\n",
    "\n",
    "    html = driver.page_source\n",
    "    driver.quit()\n",
    "    html_soup = BeautifulSoup(html, 'html.parser') \n",
    "\n",
    "    #define the posts\n",
    "    posts = html_soup.find_all('li', class_= 'cl-search-result cl-search-view-mode-gallery')\n",
    "\n",
    "    #extract data item-wise\n",
    "    for post in posts:\n",
    "\n",
    "        for a in post.find_all('a', href=True):\n",
    "            url = a['href']\n",
    "        post_links.append(url)\n",
    "        \n",
    "    iterations += 1\n",
    "\n",
    "    print(\"Page \" + str(iterations) + \" scraped successfully!\")\n",
    "\n",
    "print(\"\\n\")\n",
    "\n",
    "print(\"Scrape complete!\")"
   ]
  },
  {
   "cell_type": "code",
   "execution_count": 23,
   "id": "f32343e1",
   "metadata": {},
   "outputs": [
    {
     "name": "stdout",
     "output_type": "stream",
     "text": [
      "<class 'pandas.core.frame.DataFrame'>\n",
      "RangeIndex: 480 entries, 0 to 479\n",
      "Data columns (total 1 columns):\n",
      " #   Column  Non-Null Count  Dtype \n",
      "---  ------  --------------  ----- \n",
      " 0   URL     480 non-null    object\n",
      "dtypes: object(1)\n",
      "memory usage: 3.9+ KB\n",
      "None\n"
     ]
    },
    {
     "data": {
      "text/html": [
       "<div>\n",
       "<style scoped>\n",
       "    .dataframe tbody tr th:only-of-type {\n",
       "        vertical-align: middle;\n",
       "    }\n",
       "\n",
       "    .dataframe tbody tr th {\n",
       "        vertical-align: top;\n",
       "    }\n",
       "\n",
       "    .dataframe thead th {\n",
       "        text-align: right;\n",
       "    }\n",
       "</style>\n",
       "<table border=\"1\" class=\"dataframe\">\n",
       "  <thead>\n",
       "    <tr style=\"text-align: right;\">\n",
       "      <th></th>\n",
       "      <th>URL</th>\n",
       "    </tr>\n",
       "  </thead>\n",
       "  <tbody>\n",
       "    <tr>\n",
       "      <th>0</th>\n",
       "      <td>https://vancouver.craigslist.org/pml/apa/d/por...</td>\n",
       "    </tr>\n",
       "    <tr>\n",
       "      <th>1</th>\n",
       "      <td>https://vancouver.craigslist.org/van/apa/d/van...</td>\n",
       "    </tr>\n",
       "    <tr>\n",
       "      <th>2</th>\n",
       "      <td>https://vancouver.craigslist.org/rch/apa/d/ric...</td>\n",
       "    </tr>\n",
       "    <tr>\n",
       "      <th>3</th>\n",
       "      <td>https://vancouver.craigslist.org/rch/apa/d/ric...</td>\n",
       "    </tr>\n",
       "    <tr>\n",
       "      <th>4</th>\n",
       "      <td>https://vancouver.craigslist.org/rch/apa/d/ric...</td>\n",
       "    </tr>\n",
       "    <tr>\n",
       "      <th>5</th>\n",
       "      <td>https://vancouver.craigslist.org/van/apa/d/van...</td>\n",
       "    </tr>\n",
       "    <tr>\n",
       "      <th>6</th>\n",
       "      <td>https://vancouver.craigslist.org/bnc/apa/d/coq...</td>\n",
       "    </tr>\n",
       "    <tr>\n",
       "      <th>7</th>\n",
       "      <td>https://vancouver.craigslist.org/van/apa/d/van...</td>\n",
       "    </tr>\n",
       "    <tr>\n",
       "      <th>8</th>\n",
       "      <td>https://vancouver.craigslist.org/rds/apa/d/sur...</td>\n",
       "    </tr>\n",
       "    <tr>\n",
       "      <th>9</th>\n",
       "      <td>https://vancouver.craigslist.org/bnc/apa/d/new...</td>\n",
       "    </tr>\n",
       "  </tbody>\n",
       "</table>\n",
       "</div>"
      ],
      "text/plain": [
       "                                                 URL\n",
       "0  https://vancouver.craigslist.org/pml/apa/d/por...\n",
       "1  https://vancouver.craigslist.org/van/apa/d/van...\n",
       "2  https://vancouver.craigslist.org/rch/apa/d/ric...\n",
       "3  https://vancouver.craigslist.org/rch/apa/d/ric...\n",
       "4  https://vancouver.craigslist.org/rch/apa/d/ric...\n",
       "5  https://vancouver.craigslist.org/van/apa/d/van...\n",
       "6  https://vancouver.craigslist.org/bnc/apa/d/coq...\n",
       "7  https://vancouver.craigslist.org/van/apa/d/van...\n",
       "8  https://vancouver.craigslist.org/rds/apa/d/sur...\n",
       "9  https://vancouver.craigslist.org/bnc/apa/d/new..."
      ]
     },
     "execution_count": 23,
     "metadata": {},
     "output_type": "execute_result"
    }
   ],
   "source": [
    "van_steam = pd.DataFrame({'URL': post_links})\n",
    "print(van_steam.info())\n",
    "van_steam.head(10)"
   ]
  },
  {
   "cell_type": "code",
   "execution_count": 24,
   "id": "6e808a7c",
   "metadata": {
    "scrolled": true
   },
   "outputs": [
    {
     "data": {
      "text/plain": [
       "360"
      ]
     },
     "execution_count": 24,
     "metadata": {},
     "output_type": "execute_result"
    }
   ],
   "source": [
    "len(set(van_steam['URL']))"
   ]
  },
  {
   "cell_type": "code",
   "execution_count": 25,
   "id": "855ef363",
   "metadata": {},
   "outputs": [],
   "source": [
    "van_steam.to_csv('van_steam.csv', index = False)"
   ]
  },
  {
   "cell_type": "markdown",
   "id": "5d19778d",
   "metadata": {},
   "source": [
    "## Merge No Sauna with Sauna with Pool with Steam Room"
   ]
  },
  {
   "cell_type": "code",
   "execution_count": 59,
   "id": "324026f3",
   "metadata": {},
   "outputs": [],
   "source": [
    "van_no_sauna = pd.read_csv('van_no_sauna.csv', parse_dates=True)\n",
    "van_sauna = pd.read_csv('van_sauna.csv', parse_dates=True)\n",
    "van_pool = pd.read_csv('van_pool.csv', parse_dates=True)\n",
    "van_steam = pd.read_csv('van_steam.csv', parse_dates=True)"
   ]
  },
  {
   "cell_type": "code",
   "execution_count": 60,
   "id": "8aa9f422",
   "metadata": {},
   "outputs": [],
   "source": [
    "van_no_sauna['sauna'] = False\n",
    "van_sauna['sauna'] = True\n",
    "van_pool['pool'] = True\n",
    "van_steam['steam'] = True\n",
    "\n",
    "van_sauna_or_no_sauna = pd.concat([van_sauna, van_no_sauna], ignore_index=True)\n",
    "van_sauna_or_no_sauna = van_sauna_or_no_sauna.drop_duplicates(subset = 'URL')"
   ]
  },
  {
   "cell_type": "code",
   "execution_count": 61,
   "id": "2ad36d6e",
   "metadata": {},
   "outputs": [],
   "source": [
    "van_sauna_or_no_sauna = van_sauna_or_no_sauna.reset_index(drop = True)"
   ]
  },
  {
   "cell_type": "code",
   "execution_count": 62,
   "id": "9167eca8",
   "metadata": {},
   "outputs": [
    {
     "name": "stdout",
     "output_type": "stream",
     "text": [
      "<class 'pandas.core.frame.DataFrame'>\n",
      "RangeIndex: 8643 entries, 0 to 8642\n",
      "Data columns (total 2 columns):\n",
      " #   Column  Non-Null Count  Dtype \n",
      "---  ------  --------------  ----- \n",
      " 0   URL     8643 non-null   object\n",
      " 1   sauna   8643 non-null   bool  \n",
      "dtypes: bool(1), object(1)\n",
      "memory usage: 76.1+ KB\n"
     ]
    }
   ],
   "source": [
    "van_sauna_or_no_sauna.info()"
   ]
  },
  {
   "cell_type": "code",
   "execution_count": 63,
   "id": "68a5b584",
   "metadata": {},
   "outputs": [],
   "source": [
    "data_frames = [van_sauna_or_no_sauna, van_pool, van_steam]"
   ]
  },
  {
   "cell_type": "code",
   "execution_count": 64,
   "id": "3b1ac6d9",
   "metadata": {},
   "outputs": [],
   "source": [
    "df_merged = reduce(lambda  left,right: pd.merge(left,right,on=['URL'],\n",
    "                                            how='outer'), data_frames)"
   ]
  },
  {
   "cell_type": "code",
   "execution_count": 68,
   "id": "214898e0",
   "metadata": {},
   "outputs": [
    {
     "data": {
      "text/html": [
       "<div>\n",
       "<style scoped>\n",
       "    .dataframe tbody tr th:only-of-type {\n",
       "        vertical-align: middle;\n",
       "    }\n",
       "\n",
       "    .dataframe tbody tr th {\n",
       "        vertical-align: top;\n",
       "    }\n",
       "\n",
       "    .dataframe thead th {\n",
       "        text-align: right;\n",
       "    }\n",
       "</style>\n",
       "<table border=\"1\" class=\"dataframe\">\n",
       "  <thead>\n",
       "    <tr style=\"text-align: right;\">\n",
       "      <th></th>\n",
       "      <th>URL</th>\n",
       "      <th>sauna</th>\n",
       "      <th>pool</th>\n",
       "      <th>steam</th>\n",
       "    </tr>\n",
       "  </thead>\n",
       "  <tbody>\n",
       "    <tr>\n",
       "      <th>0</th>\n",
       "      <td>https://vancouver.craigslist.org/van/apa/d/van...</td>\n",
       "      <td>True</td>\n",
       "      <td>True</td>\n",
       "      <td>True</td>\n",
       "    </tr>\n",
       "    <tr>\n",
       "      <th>1</th>\n",
       "      <td>https://vancouver.craigslist.org/van/apa/d/van...</td>\n",
       "      <td>True</td>\n",
       "      <td>True</td>\n",
       "      <td>True</td>\n",
       "    </tr>\n",
       "    <tr>\n",
       "      <th>2</th>\n",
       "      <td>https://vancouver.craigslist.org/pml/apa/d/por...</td>\n",
       "      <td>True</td>\n",
       "      <td>NaN</td>\n",
       "      <td>NaN</td>\n",
       "    </tr>\n",
       "    <tr>\n",
       "      <th>3</th>\n",
       "      <td>https://vancouver.craigslist.org/van/apa/d/van...</td>\n",
       "      <td>True</td>\n",
       "      <td>NaN</td>\n",
       "      <td>NaN</td>\n",
       "    </tr>\n",
       "    <tr>\n",
       "      <th>4</th>\n",
       "      <td>https://vancouver.craigslist.org/bnc/apa/d/bur...</td>\n",
       "      <td>True</td>\n",
       "      <td>NaN</td>\n",
       "      <td>NaN</td>\n",
       "    </tr>\n",
       "    <tr>\n",
       "      <th>...</th>\n",
       "      <td>...</td>\n",
       "      <td>...</td>\n",
       "      <td>...</td>\n",
       "      <td>...</td>\n",
       "    </tr>\n",
       "    <tr>\n",
       "      <th>8899</th>\n",
       "      <td>https://vancouver.craigslist.org/bnc/apa/d/bur...</td>\n",
       "      <td>NaN</td>\n",
       "      <td>True</td>\n",
       "      <td>NaN</td>\n",
       "    </tr>\n",
       "    <tr>\n",
       "      <th>8900</th>\n",
       "      <td>https://vancouver.craigslist.org/van/apa/d/van...</td>\n",
       "      <td>NaN</td>\n",
       "      <td>True</td>\n",
       "      <td>NaN</td>\n",
       "    </tr>\n",
       "    <tr>\n",
       "      <th>8901</th>\n",
       "      <td>https://vancouver.craigslist.org/van/apa/d/van...</td>\n",
       "      <td>NaN</td>\n",
       "      <td>True</td>\n",
       "      <td>NaN</td>\n",
       "    </tr>\n",
       "    <tr>\n",
       "      <th>8902</th>\n",
       "      <td>https://vancouver.craigslist.org/van/apa/d/van...</td>\n",
       "      <td>NaN</td>\n",
       "      <td>NaN</td>\n",
       "      <td>True</td>\n",
       "    </tr>\n",
       "    <tr>\n",
       "      <th>8903</th>\n",
       "      <td>https://vancouver.craigslist.org/van/apa/d/van...</td>\n",
       "      <td>NaN</td>\n",
       "      <td>NaN</td>\n",
       "      <td>True</td>\n",
       "    </tr>\n",
       "  </tbody>\n",
       "</table>\n",
       "<p>8904 rows × 4 columns</p>\n",
       "</div>"
      ],
      "text/plain": [
       "                                                    URL sauna  pool steam\n",
       "0     https://vancouver.craigslist.org/van/apa/d/van...  True  True  True\n",
       "1     https://vancouver.craigslist.org/van/apa/d/van...  True  True  True\n",
       "2     https://vancouver.craigslist.org/pml/apa/d/por...  True   NaN   NaN\n",
       "3     https://vancouver.craigslist.org/van/apa/d/van...  True   NaN   NaN\n",
       "4     https://vancouver.craigslist.org/bnc/apa/d/bur...  True   NaN   NaN\n",
       "...                                                 ...   ...   ...   ...\n",
       "8899  https://vancouver.craigslist.org/bnc/apa/d/bur...   NaN  True   NaN\n",
       "8900  https://vancouver.craigslist.org/van/apa/d/van...   NaN  True   NaN\n",
       "8901  https://vancouver.craigslist.org/van/apa/d/van...   NaN  True   NaN\n",
       "8902  https://vancouver.craigslist.org/van/apa/d/van...   NaN   NaN  True\n",
       "8903  https://vancouver.craigslist.org/van/apa/d/van...   NaN   NaN  True\n",
       "\n",
       "[8904 rows x 4 columns]"
      ]
     },
     "execution_count": 68,
     "metadata": {},
     "output_type": "execute_result"
    }
   ],
   "source": [
    "df_merged"
   ]
  },
  {
   "cell_type": "code",
   "execution_count": 66,
   "id": "66da70f0",
   "metadata": {},
   "outputs": [],
   "source": [
    "van_sauna_pool_steam = df_merged.drop_duplicates(subset = 'URL')"
   ]
  },
  {
   "cell_type": "code",
   "execution_count": null,
   "id": "113f0b10",
   "metadata": {},
   "outputs": [],
   "source": [
    "for url in van_sauna_pool_steam:\n",
    "    "
   ]
  },
  {
   "cell_type": "code",
   "execution_count": 71,
   "id": "65a98d8b",
   "metadata": {},
   "outputs": [],
   "source": [
    "van_sauna_pool_steam.to_csv('van_sauna_pool_steam.csv')"
   ]
  },
  {
   "cell_type": "code",
   "execution_count": null,
   "id": "b8a180ec",
   "metadata": {},
   "outputs": [],
   "source": []
  }
 ],
 "metadata": {
  "kernelspec": {
   "display_name": "Python 3 (ipykernel)",
   "language": "python",
   "name": "python3"
  },
  "language_info": {
   "codemirror_mode": {
    "name": "ipython",
    "version": 3
   },
   "file_extension": ".py",
   "mimetype": "text/x-python",
   "name": "python",
   "nbconvert_exporter": "python",
   "pygments_lexer": "ipython3",
   "version": "3.8.5"
  },
  "toc": {
   "base_numbering": 1,
   "nav_menu": {},
   "number_sections": true,
   "sideBar": true,
   "skip_h1_title": false,
   "title_cell": "Table of Contents",
   "title_sidebar": "Contents",
   "toc_cell": false,
   "toc_position": {},
   "toc_section_display": true,
   "toc_window_display": false
  }
 },
 "nbformat": 4,
 "nbformat_minor": 5
}
